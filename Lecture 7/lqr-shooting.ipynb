{
 "cells": [
  {
   "cell_type": "code",
   "execution_count": 8,
   "metadata": {},
   "outputs": [
    {
     "name": "stderr",
     "output_type": "stream",
     "text": [
      "\u001b[32m\u001b[1m  Activating\u001b[22m\u001b[39m project at `f:\\Programming\\Julia\\CMU_OptimalControl\\LectureNotes\\CMU_optimal_control_lecture-notebooks\\Lecture 7`\n",
      "\u001b[32m\u001b[1m    Building\u001b[22m\u001b[39m Conda → `C:\\Users\\Amir Saman\\.julia\\scratchspaces\\44cfe95a-1eb2-52ea-b672-e2afdf69b78f\\51cab8e982c5b598eea9c8ceaced4b58d9dd37c9\\build.log`\n",
      "\u001b[32m\u001b[1m    Building\u001b[22m\u001b[39m Conda ─→ `C:\\Users\\Amir Saman\\.julia\\scratchspaces\\44cfe95a-1eb2-52ea-b672-e2afdf69b78f\\51cab8e982c5b598eea9c8ceaced4b58d9dd37c9\\build.log`\n",
      "\u001b[32m\u001b[1m    Building\u001b[22m\u001b[39m PyCall → `C:\\Users\\Amir Saman\\.julia\\scratchspaces\\44cfe95a-1eb2-52ea-b672-e2afdf69b78f\\9816a3826b0ebf49ab4926e2b18842ad8b5c8f04\\build.log`\n"
     ]
    }
   ],
   "source": [
    "import Pkg; Pkg.activate(@__DIR__);\n",
    "ENV[\"CONDA_JL_HOME\"] = raw\"C:\\Conda-Julia\\3\";Pkg.build(\"Conda\");\n",
    "Pkg.instantiate();\n",
    "Pkg.build(\"PyCall\")\n"
   ]
  },
  {
   "cell_type": "code",
   "execution_count": 9,
   "metadata": {},
   "outputs": [
    {
     "name": "stderr",
     "output_type": "stream",
     "text": [
      "┌ Info: Installing matplotlib via the Conda matplotlib package...\n",
      "└ @ PyCall C:\\Users\\Amir Saman\\.julia\\packages\\PyCall\\1gn3u\\src\\PyCall.jl:719\n",
      "┌ Info: Running `conda install -y matplotlib` in root environment\n",
      "└ @ Conda C:\\Users\\Amir Saman\\.julia\\packages\\Conda\\sDjAP\\src\\Conda.jl:181\n"
     ]
    },
    {
     "name": "stdout",
     "output_type": "stream",
     "text": [
      "Channels:\n",
      " - conda-forge\n",
      "Platform: win-64\n",
      "Collecting package metadata (repodata.json): ...working... done\n",
      "Solving environment: ...working... done\n"
     ]
    },
    {
     "name": "stderr",
     "output_type": "stream",
     "text": [
      "\n",
      "\n",
      "==> WARNING: A newer version of conda exists. <==\n",
      "    current version: 24.1.2\n",
      "    latest version: 24.3.0\n",
      "\n",
      "Please update conda by running\n",
      "\n",
      "    $ conda update -n base -c conda-forge conda\n",
      "\n",
      "\n"
     ]
    },
    {
     "name": "stdout",
     "output_type": "stream",
     "text": [
      "\n",
      "## Package Plan ##\n",
      "\n",
      "  environment location: C:\\Conda-Julia\\3\n",
      "\n",
      "  added / updated specs:\n",
      "    - matplotlib\n",
      "\n",
      "\n",
      "The following packages will be downloaded:\n",
      "\n",
      "    package                    |            build\n",
      "    ---------------------------|-----------------\n",
      "    brotli-1.1.0               |       hcfcfb64_1          19 KB  conda-forge\n",
      "    brotli-bin-1.1.0           |       hcfcfb64_1          20 KB  conda-forge\n",
      "    contourpy-1.2.0            |  py310h232114e_0         186 KB  conda-forge\n",
      "    cycler-0.12.1              |     pyhd8ed1ab_0          13 KB  conda-forge\n",
      "    fonttools-4.50.0           |  py310h8d17308_0         1.8 MB  conda-forge\n",
      "    freetype-2.12.1            |       hdaf720e_2         498 KB  conda-forge\n",
      "    gettext-0.21.1             |       h5728263_0         5.3 MB  conda-forge\n",
      "    glib-2.80.0                |       h39d0aa6_1         480 KB  conda-forge\n",
      "    glib-tools-2.80.0          |       h0a98069_1          92 KB  conda-forge\n",
      "    gst-plugins-base-1.22.9    |       h001b923_1         1.9 MB  conda-forge\n",
      "    gstreamer-1.22.9           |       hb4038d2_1         1.8 MB  conda-forge\n",
      "    icu-73.2                   |       h63175ca_0        12.8 MB  conda-forge\n",
      "    kiwisolver-1.4.5           |  py310h232114e_1          54 KB  conda-forge\n",
      "    lcms2-2.16                 |       h67d730c_0         496 KB  conda-forge\n",
      "    lerc-4.0.0                 |       h63175ca_0         190 KB  conda-forge\n",
      "    libbrotlicommon-1.1.0      |       hcfcfb64_1          69 KB  conda-forge\n",
      "    libbrotlidec-1.1.0         |       hcfcfb64_1          32 KB  conda-forge\n",
      "    libbrotlienc-1.1.0         |       hcfcfb64_1         241 KB  conda-forge\n",
      "    libclang13-18.1.2          |default_hf64faad_1        24.1 MB  conda-forge\n",
      "    libdeflate-1.20            |       hcfcfb64_0         152 KB  conda-forge\n",
      "    libglib-2.80.0             |       h39d0aa6_1         2.7 MB  conda-forge\n",
      "    libjpeg-turbo-3.0.0        |       hcfcfb64_1         804 KB  conda-forge\n",
      "    libogg-1.3.4               |       h8ffe710_1          34 KB  conda-forge\n",
      "    libpng-1.6.43              |       h19919ed_0         339 KB  conda-forge\n",
      "    libtiff-4.6.0              |       hddb2be6_3         769 KB  conda-forge\n",
      "    libvorbis-1.3.7            |       h0e60522_0         267 KB  conda-forge\n",
      "    libwebp-base-1.3.2         |       hcfcfb64_0         263 KB  conda-forge\n",
      "    libxcb-1.15                |       hcd874cb_0         947 KB  conda-forge\n",
      "    m2w64-gcc-libgfortran-5.3.0|                6         342 KB  conda-forge\n",
      "    m2w64-gcc-libs-5.3.0       |                7         520 KB  conda-forge\n",
      "    m2w64-gcc-libs-core-5.3.0  |                7         214 KB  conda-forge\n",
      "    m2w64-gmp-6.1.0            |                2         726 KB  conda-forge\n",
      "    m2w64-libwinpthread-git-5.0.0.4634.697f757|                2          31 KB  conda-forge\n",
      "    matplotlib-3.8.3           |  py310h5588dad_0           9 KB  conda-forge\n",
      "    matplotlib-base-3.8.3      |  py310hc9baf74_0         6.4 MB  conda-forge\n",
      "    msys2-conda-epoch-20160418 |                1           3 KB  conda-forge\n",
      "    munkres-1.1.4              |     pyh9f0ad1d_0          12 KB  conda-forge\n",
      "    openjpeg-2.5.2             |       h3d672ee_0         232 KB  conda-forge\n",
      "    pcre2-10.43                |       h17e33f8_0         799 KB  conda-forge\n",
      "    pillow-10.2.0              |  py310h1e6a543_0        39.6 MB  conda-forge\n",
      "    ply-3.11                   |             py_1          44 KB  conda-forge\n",
      "    pthread-stubs-0.4          |    hcd874cb_1001           6 KB  conda-forge\n",
      "    pyparsing-3.1.2            |     pyhd8ed1ab_0          87 KB  conda-forge\n",
      "    pyqt-5.15.9                |  py310h1fd54f2_5         3.7 MB  conda-forge\n",
      "    pyqt5-sip-12.12.2          |  py310h00ffb61_5          78 KB  conda-forge\n",
      "    python-dateutil-2.9.0      |     pyhd8ed1ab_0         218 KB  conda-forge\n",
      "    qt-main-5.15.8             |      h9e85ed6_20        57.2 MB  conda-forge\n",
      "    sip-6.7.12                 |  py310h00ffb61_0         493 KB  conda-forge\n",
      "    six-1.16.0                 |     pyh6c4a22f_0          14 KB  conda-forge\n",
      "    toml-0.10.2                |     pyhd8ed1ab_0          18 KB  conda-forge\n",
      "    tomli-2.0.1                |     pyhd8ed1ab_0          16 KB  conda-forge\n",
      "    tornado-6.4                |  py310h8d17308_0         637 KB  conda-forge\n",
      "    unicodedata2-15.1.0        |  py310h8d17308_0         361 KB  conda-forge\n",
      "    xorg-libxau-1.0.11         |       hcd874cb_0          50 KB  conda-forge\n",
      "    xorg-libxdmcp-1.1.3        |       hcd874cb_0          66 KB  conda-forge\n",
      "    ------------------------------------------------------------\n",
      "                                           Total:       168.2 MB\n",
      "\n",
      "The following NEW packages will be INSTALLED:\n",
      "\n",
      "  brotli             conda-forge/win-64::brotli-1.1.0-hcfcfb64_1 \n",
      "  brotli-bin         conda-forge/win-64::brotli-bin-1.1.0-hcfcfb64_1 \n",
      "  contourpy          conda-forge/win-64::contourpy-1.2.0-py310h232114e_0 \n",
      "  cycler             conda-forge/noarch::cycler-0.12.1-pyhd8ed1ab_0 \n",
      "  fonttools          conda-forge/win-64::fonttools-4.50.0-py310h8d17308_0 \n",
      "  freetype           conda-forge/win-64::freetype-2.12.1-hdaf720e_2 \n",
      "  gettext            conda-forge/win-64::gettext-0.21.1-h5728263_0 \n",
      "  glib               conda-forge/win-64::glib-2.80.0-h39d0aa6_1 \n",
      "  glib-tools         conda-forge/win-64::glib-tools-2.80.0-h0a98069_1 \n",
      "  gst-plugins-base   conda-forge/win-64::gst-plugins-base-1.22.9-h001b923_1 \n",
      "  gstreamer          conda-forge/win-64::gstreamer-1.22.9-hb4038d2_1 \n",
      "  icu                conda-forge/win-64::icu-73.2-h63175ca_0 \n",
      "  kiwisolver         conda-forge/win-64::kiwisolver-1.4.5-py310h232114e_1 \n",
      "  lcms2              conda-forge/win-64::lcms2-2.16-h67d730c_0 \n",
      "  lerc               conda-forge/win-64::lerc-4.0.0-h63175ca_0 \n",
      "  libbrotlicommon    conda-forge/win-64::libbrotlicommon-1.1.0-hcfcfb64_1 \n",
      "  libbrotlidec       conda-forge/win-64::libbrotlidec-1.1.0-hcfcfb64_1 \n",
      "  libbrotlienc       conda-forge/win-64::libbrotlienc-1.1.0-hcfcfb64_1 \n",
      "  libclang13         conda-forge/win-64::libclang13-18.1.2-default_hf64faad_1 \n",
      "  libdeflate         conda-forge/win-64::libdeflate-1.20-hcfcfb64_0 \n",
      "  libglib            conda-forge/win-64::libglib-2.80.0-h39d0aa6_1 \n",
      "  libjpeg-turbo      conda-forge/win-64::libjpeg-turbo-3.0.0-hcfcfb64_1 \n",
      "  libogg             conda-forge/win-64::libogg-1.3.4-h8ffe710_1 \n",
      "  libpng             conda-forge/win-64::libpng-1.6.43-h19919ed_0 \n",
      "  libtiff            conda-forge/win-64::libtiff-4.6.0-hddb2be6_3 \n",
      "  libvorbis          conda-forge/win-64::libvorbis-1.3.7-h0e60522_0 \n",
      "  libwebp-base       conda-forge/win-64::libwebp-base-1.3.2-hcfcfb64_0 \n",
      "  libxcb             conda-forge/win-64::libxcb-1.15-hcd874cb_0 \n",
      "  m2w64-gcc-libgfor~ conda-forge/win-64::m2w64-gcc-libgfortran-5.3.0-6 \n",
      "  m2w64-gcc-libs     conda-forge/win-64::m2w64-gcc-libs-5.3.0-7 \n",
      "  m2w64-gcc-libs-co~ conda-forge/win-64::m2w64-gcc-libs-core-5.3.0-7 \n",
      "  m2w64-gmp          conda-forge/win-64::m2w64-gmp-6.1.0-2 \n",
      "  m2w64-libwinpthre~ conda-forge/win-64::m2w64-libwinpthread-git-5.0.0.4634.697f757-2 \n",
      "  matplotlib         conda-forge/win-64::matplotlib-3.8.3-py310h5588dad_0 \n",
      "  matplotlib-base    conda-forge/win-64::matplotlib-base-3.8.3-py310hc9baf74_0 \n",
      "  msys2-conda-epoch  conda-forge/win-64::msys2-conda-epoch-20160418-1 \n",
      "  munkres            conda-forge/noarch::munkres-1.1.4-pyh9f0ad1d_0 \n",
      "  openjpeg           conda-forge/win-64::openjpeg-2.5.2-h3d672ee_0 \n",
      "  pcre2              conda-forge/win-64::pcre2-10.43-h17e33f8_0 \n",
      "  pillow             conda-forge/win-64::pillow-10.2.0-py310h1e6a543_0 \n",
      "  ply                conda-forge/noarch::ply-3.11-py_1 \n",
      "  pthread-stubs      conda-forge/win-64::pthread-stubs-0.4-hcd874cb_1001 \n",
      "  pyparsing          conda-forge/noarch::pyparsing-3.1.2-pyhd8ed1ab_0 \n",
      "  pyqt               conda-forge/win-64::pyqt-5.15.9-py310h1fd54f2_5 \n",
      "  pyqt5-sip          conda-forge/win-64::pyqt5-sip-12.12.2-py310h00ffb61_5 \n",
      "  python-dateutil    conda-forge/noarch::python-dateutil-2.9.0-pyhd8ed1ab_0 \n",
      "  qt-main            conda-forge/win-64::qt-main-5.15.8-h9e85ed6_20 \n",
      "  sip                conda-forge/win-64::sip-6.7.12-py310h00ffb61_0 \n",
      "  six                conda-forge/noarch::six-1.16.0-pyh6c4a22f_0 \n",
      "  toml               conda-forge/noarch::toml-0.10.2-pyhd8ed1ab_0 \n",
      "  tomli              conda-forge/noarch::tomli-2.0.1-pyhd8ed1ab_0 \n",
      "  tornado            conda-forge/win-64::tornado-6.4-py310h8d17308_0 \n",
      "  unicodedata2       conda-forge/win-64::unicodedata2-15.1.0-py310h8d17308_0 \n",
      "  xorg-libxau        conda-forge/win-64::xorg-libxau-1.0.11-hcd874cb_0 \n",
      "  xorg-libxdmcp      conda-forge/win-64::xorg-libxdmcp-1.1.3-hcd874cb_0 \n",
      "\n",
      "\n",
      "\n",
      "Downloading and Extracting Packages: ...working... done\n",
      "Preparing transaction: ...working... done\n",
      "Verifying transaction: ...working... done\n",
      "Executing transaction: ...working... done\n"
     ]
    }
   ],
   "source": [
    "using LinearAlgebra\n",
    "using PyPlot"
   ]
  },
  {
   "cell_type": "code",
   "execution_count": 41,
   "metadata": {},
   "outputs": [
    {
     "name": "stdout",
     "output_type": "stream",
     "text": [
      "Ad = [1.0 0.1; 0.0 1.0]\n",
      "Bd = [0.005005000000000001, 0.10010000000000184]\n",
      "A = [1.0 0.1; 0.0 1.0]\n",
      "B = [0.005000000000000001, 0.1]\n"
     ]
    },
    {
     "data": {
      "text/plain": [
       "2-element Vector{Float64}:\n",
       " 0.005000000000000001\n",
       " 0.1"
      ]
     },
     "metadata": {},
     "output_type": "display_data"
    }
   ],
   "source": [
    "# getting discrete dynamics from continuous dynamics using ZOH\n",
    "# Continuous dynamics\n",
    "A = [0 1; 0 0]\n",
    "B = [0.; 1]\n",
    "\n",
    "# Define the sampling time and the number of subintervals\n",
    "Ts = 0.1\n",
    "N = 1000\n",
    "\n",
    "# Compute the length of each subinterval\n",
    "h = Ts/N\n",
    "\n",
    "# Initialize Bd as a zero matrix\n",
    "Bd = zeros(size(B))\n",
    "\n",
    "# Compute Bd using the trapezoidal rule\n",
    "for i in 0:N\n",
    "    t = i*h\n",
    "    Bd += exp(A*t)*B*h\n",
    "end\n",
    "\n",
    "# Discretize A\n",
    "Ad = exp(A*Ts)\n",
    "\n",
    "@show Ad\n",
    "@show Bd\n",
    "\n",
    "\n",
    "\n",
    "# Discrete dynamics (raw)\n",
    "h = 0.1   # time step\n",
    "A = [1 h; 0 1]\n",
    "B = [0.5*h*h; h]\n",
    "\n",
    "\n",
    "@show A\n",
    "@show B"
   ]
  },
  {
   "cell_type": "code",
   "execution_count": null,
   "metadata": {},
   "outputs": [],
   "source": [
    "n = 2     # number of state\n",
    "m = 1     # number of controls\n",
    "Tfinal = 10.0 # final time #try larger values\n",
    "N = Int(Tfinal/h)+1    # number of time steps\n",
    "thist = Array(range(0,h*(N-1), step=h));"
   ]
  },
  {
   "cell_type": "code",
   "execution_count": null,
   "metadata": {},
   "outputs": [],
   "source": [
    "# Initial conditions\n",
    "x0 = [1.0; 0]"
   ]
  },
  {
   "cell_type": "code",
   "execution_count": null,
   "metadata": {},
   "outputs": [],
   "source": [
    "# Cost weights\n",
    "Q = 1.0*I(2)\n",
    "R = 0.1\n",
    "Qn = 1.0*I(2)"
   ]
  },
  {
   "cell_type": "code",
   "execution_count": null,
   "metadata": {},
   "outputs": [],
   "source": [
    "function J(xhist,uhist)\n",
    "    cost = 0.5*xhist[:,end]'*Qn*xhist[:,end]\n",
    "    for k = 1:(N-1)\n",
    "        cost = cost + 0.5*xhist[:,k]'*Q*xhist[:,k] + 0.5*uhist[k]'*R*uhist[k]\n",
    "    end\n",
    "    return cost\n",
    "end"
   ]
  },
  {
   "cell_type": "code",
   "execution_count": null,
   "metadata": {},
   "outputs": [],
   "source": [
    "function rollout(xhist, uhist)\n",
    "    xnew = zeros(size(xhist))\n",
    "    xnew[:,1] = xhist[:,1]\n",
    "    for k = 1:(N-1)\n",
    "        xnew[:,k+1] .= A*xnew[:,k] + B*uhist[k]\n",
    "    end\n",
    "    return xnew\n",
    "end"
   ]
  },
  {
   "cell_type": "code",
   "execution_count": null,
   "metadata": {},
   "outputs": [],
   "source": [
    "# Initial guess\n",
    "xhist = repeat(x0, 1, N)\n",
    "uhist = zeros(N-1)\n",
    "Δu = ones(N-1)\n",
    "λhist = zeros(n,N)\n",
    "\n",
    "xhist = rollout(xhist, uhist) #initial rollout to get state trajectory\n",
    "\n",
    "J(xhist,uhist) #Initial cost"
   ]
  },
  {
   "cell_type": "code",
   "execution_count": null,
   "metadata": {},
   "outputs": [],
   "source": [
    "b = 1e-2 #line search tolerance\n",
    "α = 1.0\n",
    "iter = 0\n",
    "while maximum(abs.(Δu[:])) > 1e-2 #terminate when the gradient is small\n",
    "    \n",
    "    #Backward pass to compute λ and Δu\n",
    "    λhist[:,N] .= Qn*xhist[:,N]\n",
    "    for k = N-1:-1:1\n",
    "        Δu[k] = -(uhist[k]+R\\B'*λhist[:,k+1])\n",
    "        λhist[:,k] .= Q*xhist[:,k] + A'*λhist[:,k+1]\n",
    "    end\n",
    "    \n",
    "    #Forward pass with line search to compute x\n",
    "    α = 1.0\n",
    "    unew = uhist + α.*Δu\n",
    "    xnew = rollout(xhist, unew)\n",
    "    while J(xnew, unew) > J(xhist, uhist) - b*α*Δu[:]'*Δu[:]\n",
    "        α = 0.5*α\n",
    "        unew = uhist + α.*Δu\n",
    "        xnew = rollout(xhist, unew)\n",
    "    end\n",
    "    uhist .= unew;\n",
    "    xhist .= xnew;\n",
    "    iter += 1\n",
    "end"
   ]
  },
  {
   "cell_type": "code",
   "execution_count": null,
   "metadata": {},
   "outputs": [],
   "source": [
    "iter"
   ]
  },
  {
   "cell_type": "code",
   "execution_count": null,
   "metadata": {},
   "outputs": [],
   "source": [
    "J(xhist,uhist) #cost of solution"
   ]
  },
  {
   "cell_type": "code",
   "execution_count": null,
   "metadata": {},
   "outputs": [],
   "source": [
    "# Plot x1 vs. x2, u vs. t, x vs. t, etc.\n",
    "plot(thist,xhist[1,:], label=\"Position\")\n",
    "plot(thist,xhist[2,:], label=\"Velocity\")\n",
    "xlabel(\"Time\")\n",
    "legend()"
   ]
  },
  {
   "cell_type": "code",
   "execution_count": null,
   "metadata": {},
   "outputs": [],
   "source": [
    "plot(thist[1:end-1], uhist, label=\"control\")\n",
    "xlabel(\"Time\")\n",
    "legend()"
   ]
  },
  {
   "cell_type": "code",
   "execution_count": null,
   "metadata": {},
   "outputs": [],
   "source": []
  }
 ],
 "metadata": {
  "kernelspec": {
   "display_name": "Julia 1.9.3",
   "language": "julia",
   "name": "julia-1.9"
  },
  "language_info": {
   "file_extension": ".jl",
   "mimetype": "application/julia",
   "name": "julia",
   "version": "1.9.3"
  }
 },
 "nbformat": 4,
 "nbformat_minor": 4
}
